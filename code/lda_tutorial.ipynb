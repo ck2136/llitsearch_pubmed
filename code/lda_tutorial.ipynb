{
 "cells": [
  {
   "cell_type": "markdown",
   "metadata": {},
   "source": [
    "# Topic Modeling"
   ]
  },
  {
   "cell_type": "markdown",
   "metadata": {},
   "source": [
    "## Using Gensim"
   ]
  },
  {
   "cell_type": "markdown",
   "metadata": {},
   "source": [
    "Courtesy to [Analytics Vidhya](https://www.analyticsvidhya.com/blog/2016/08/beginners-guide-to-topic-modeling-in-python/)."
   ]
  },
  {
   "cell_type": "code",
   "execution_count": 1,
   "metadata": {},
   "outputs": [],
   "source": [
    "import sys"
   ]
  },
  {
   "cell_type": "code",
   "execution_count": 2,
   "metadata": {},
   "outputs": [
    {
     "data": {
      "text/plain": [
       "'3.6.3 (default, Oct  3 2017, 21:45:48) \\n[GCC 7.2.0]'"
      ]
     },
     "execution_count": 2,
     "metadata": {},
     "output_type": "execute_result"
    }
   ],
   "source": [
    "sys.version"
   ]
  },
  {
   "cell_type": "markdown",
   "metadata": {},
   "source": [
    "### 1. Prepare Document"
   ]
  },
  {
   "cell_type": "markdown",
   "metadata": {},
   "source": [
    "Since our file from the *scrape.py* process has been saved as a .json object, import it using `json` package"
   ]
  },
  {
   "cell_type": "code",
   "execution_count": 3,
   "metadata": {},
   "outputs": [],
   "source": [
    "import json"
   ]
  },
  {
   "cell_type": "markdown",
   "metadata": {},
   "source": [
    "Open the file"
   ]
  },
  {
   "cell_type": "code",
   "execution_count": 4,
   "metadata": {},
   "outputs": [],
   "source": [
    "with open(\"../data/downloaded_abs.json\") as json_data:\n",
    "    d = json.load(json_data)"
   ]
  },
  {
   "cell_type": "markdown",
   "metadata": {},
   "source": [
    "Now append each of the abstracts into one list"
   ]
  },
  {
   "cell_type": "code",
   "execution_count": 5,
   "metadata": {},
   "outputs": [],
   "source": [
    "doc_complete = []\n",
    "for docs in d['Abstract']:\n",
    "    doc_complete.append(''.join(docs))"
   ]
  },
  {
   "cell_type": "markdown",
   "metadata": {},
   "source": [
    "### 2. Clean and Preprocessing"
   ]
  },
  {
   "cell_type": "markdown",
   "metadata": {},
   "source": [
    "Now remove puncations, stopwords, and normalize the corpus (i.e. the document with potential topics and words)"
   ]
  },
  {
   "cell_type": "code",
   "execution_count": 6,
   "metadata": {},
   "outputs": [],
   "source": [
    "from nltk.corpus import stopwords"
   ]
  },
  {
   "cell_type": "code",
   "execution_count": 7,
   "metadata": {},
   "outputs": [],
   "source": [
    "from nltk.stem.wordnet import WordNetLemmatizer\n",
    "import string"
   ]
  },
  {
   "cell_type": "markdown",
   "metadata": {},
   "source": [
    "Set up the stop word, punctuations, and lemmas. Since we know that the topic is already asthma, we want to append words like 'asthma','inflammation','allergic','airway' into the set."
   ]
  },
  {
   "cell_type": "code",
   "execution_count": 8,
   "metadata": {},
   "outputs": [],
   "source": [
    "stop = set(stopwords.words('english'))\n",
    "stop.update(['asthma','inflammation','allergic','airway','child','study','effect',\n",
    "             'lung','risk'])\n",
    "exclude = set(string.punctuation)\n",
    "lemma = WordNetLemmatizer()\n",
    "\n",
    "def clean(doc):\n",
    "    stop_free = ' '.join([i for i in doc.lower().split() if i not in stop])\n",
    "    punc_free = ''.join(ch for ch in stop_free if ch not in exclude)\n",
    "    normalized = ' '.join(lemma.lemmatize(word) for word in punc_free.split())\n",
    "    return normalized"
   ]
  },
  {
   "cell_type": "markdown",
   "metadata": {},
   "source": [
    "Run the document through the cleaning function"
   ]
  },
  {
   "cell_type": "code",
   "execution_count": 9,
   "metadata": {},
   "outputs": [],
   "source": [
    "doc_clean = [clean(doc).split() for doc in doc_complete]"
   ]
  },
  {
   "cell_type": "markdown",
   "metadata": {},
   "source": [
    "Let's look at a the first 10 words in the 1st document."
   ]
  },
  {
   "cell_type": "code",
   "execution_count": 10,
   "metadata": {},
   "outputs": [
    {
     "data": {
      "text/plain": [
       "['interleukin13',\n",
       " 'il13',\n",
       " 'associated',\n",
       " 'remodeling',\n",
       " 'group',\n",
       " 'found',\n",
       " 'variant',\n",
       " 'single',\n",
       " 'nucleotide',\n",
       " 'polymorphism']"
      ]
     },
     "execution_count": 10,
     "metadata": {},
     "output_type": "execute_result"
    }
   ],
   "source": [
    "doc_clean[0][:10]"
   ]
  },
  {
   "cell_type": "markdown",
   "metadata": {},
   "source": [
    "### 3. Prepare Document-Term Matrix"
   ]
  },
  {
   "cell_type": "markdown",
   "metadata": {},
   "source": [
    "Since the Latent-Dirichlet Allocation model will go throug the DT matrix then calculate the probabilities of the topic | doc and word | topic to get at the document topic distribution and topic-word distribution."
   ]
  },
  {
   "cell_type": "code",
   "execution_count": 11,
   "metadata": {},
   "outputs": [],
   "source": [
    "import gensim"
   ]
  },
  {
   "cell_type": "code",
   "execution_count": 12,
   "metadata": {},
   "outputs": [],
   "source": [
    "from gensim import corpora"
   ]
  },
  {
   "cell_type": "code",
   "execution_count": 58,
   "metadata": {},
   "outputs": [],
   "source": [
    "pyLDAvis.enable_notebook()\n",
    "%matplotlib inline"
   ]
  },
  {
   "cell_type": "markdown",
   "metadata": {},
   "source": [
    "Create term dictionary where every unique term is assigned an index (this will be assigned into the lower order matrices that are essentially the document-term matrix and term-word matrix)"
   ]
  },
  {
   "cell_type": "code",
   "execution_count": 13,
   "metadata": {},
   "outputs": [],
   "source": [
    "dictionary = corpora.Dictionary(doc_clean)"
   ]
  },
  {
   "cell_type": "code",
   "execution_count": 54,
   "metadata": {},
   "outputs": [],
   "source": [
    "dictionary.save('../data/asthma_lit_abs.dict')  # store the dictionary, for future reference"
   ]
  },
  {
   "cell_type": "markdown",
   "metadata": {},
   "source": [
    "Now convert the corpora into Ducment Term matrix using the dictionary and the corpus"
   ]
  },
  {
   "cell_type": "code",
   "execution_count": 14,
   "metadata": {},
   "outputs": [],
   "source": [
    "doc_term_matrix = [dictionary.doc2bow(doc) for doc in doc_clean]"
   ]
  },
  {
   "cell_type": "markdown",
   "metadata": {},
   "source": [
    "### 4. Run LDA Model"
   ]
  },
  {
   "cell_type": "markdown",
   "metadata": {},
   "source": [
    "Now create an object of LDA model and train it on the DT matrix."
   ]
  },
  {
   "cell_type": "code",
   "execution_count": 15,
   "metadata": {},
   "outputs": [],
   "source": [
    "lda = gensim.models.ldamodel.LdaModel"
   ]
  },
  {
   "cell_type": "code",
   "execution_count": 16,
   "metadata": {},
   "outputs": [],
   "source": [
    "ldamodel = lda(doc_term_matrix, num_topics=10, id2word = dictionary, passes=50)"
   ]
  },
  {
   "cell_type": "code",
   "execution_count": 56,
   "metadata": {},
   "outputs": [],
   "source": [
    "ldamodel.save('../data/asthma_lit_abs.mod')"
   ]
  },
  {
   "cell_type": "markdown",
   "metadata": {},
   "source": [
    "### 5. Results"
   ]
  },
  {
   "cell_type": "code",
   "execution_count": 17,
   "metadata": {},
   "outputs": [
    {
     "name": "stdout",
     "output_type": "stream",
     "text": [
      "[(0, '0.009*\"disease\" + 0.008*\"drug\" + 0.007*\"biomarkers\" + 0.007*\"deposition\" + 0.006*\"data\"'), (1, '0.016*\"child\" + 0.010*\"p\" + 0.010*\"feno\" + 0.010*\"atopic\" + 0.009*\"group\"'), (2, '0.022*\"plasma\" + 0.018*\"aerd\" + 0.016*\"concentration\" + 0.014*\"h\" + 0.014*\"terbutaline\"'), (3, '0.011*\"response\" + 0.011*\"disease\" + 0.010*\"fev1\" + 0.009*\"asthma\" + 0.009*\"bronchodilator\"'), (4, '0.012*\"disease\" + 0.010*\"acid\" + 0.009*\"level\" + 0.009*\"intake\" + 0.009*\"ngal\"'), (5, '0.015*\"patient\" + 0.014*\"utilization\" + 0.010*\"reaction\" + 0.010*\"prediction\" + 0.010*\"change\"'), (6, '0.012*\"patient\" + 0.011*\"hospital\" + 0.009*\"response\" + 0.008*\"model\" + 0.008*\"data\"'), (7, '0.011*\"response\" + 0.008*\"age\" + 0.008*\"child\" + 0.008*\"hospitalization\" + 0.008*\"1998\"'), (8, '0.023*\"child\" + 0.019*\"r2\" + 0.019*\"epsilon\" + 0.019*\"sfc\" + 0.014*\"severe\"'), (9, '0.020*\"salmeterol\" + 0.017*\"salbutamol\" + 0.015*\"dose\" + 0.012*\"treatment\" + 0.012*\"response\"')]\n"
     ]
    }
   ],
   "source": [
    "print(ldamodel.print_topics(num_topics=10, num_words = 5))"
   ]
  },
  {
   "cell_type": "markdown",
   "metadata": {},
   "source": [
    "We can see that the first topic would be related to 'plasma', 'allergen', and 'epitope'"
   ]
  },
  {
   "cell_type": "markdown",
   "metadata": {},
   "source": [
    "### 6. Visualize Using pyLDAvis"
   ]
  },
  {
   "cell_type": "markdown",
   "metadata": {},
   "source": [
    "Originally I wanted to use the pyLDAvis bridged with graphlab but the process is a bit messy. So I'm just gonna use the gensim package and see where we go from there."
   ]
  },
  {
   "cell_type": "markdown",
   "metadata": {},
   "source": [
    "Since the visualization will require a corpus of dictionary words, let's save our dictionary which is an array of tokenized words."
   ]
  },
  {
   "cell_type": "code",
   "execution_count": 42,
   "metadata": {},
   "outputs": [
    {
     "name": "stdout",
     "output_type": "stream",
     "text": [
      "Dictionary(2193 unique tokens: ['interleukin13', 'il13', 'associated', 'remodeling', 'group']...)\n"
     ]
    }
   ],
   "source": [
    "print(dictionary)"
   ]
  },
  {
   "cell_type": "markdown",
   "metadata": {},
   "source": [
    "Test this dictionary on a new doc"
   ]
  },
  {
   "cell_type": "code",
   "execution_count": 43,
   "metadata": {},
   "outputs": [
    {
     "name": "stdout",
     "output_type": "stream",
     "text": [
      "[(84, 1), (191, 1), (253, 1), (648, 1), (913, 1), (914, 1)]\n"
     ]
    }
   ],
   "source": [
    "new_doc = \"asthma is a interesting disease area. Short acting beta agonists are important!\"\n",
    "new_vec = dictionary.doc2bow(new_doc.lower().split())\n",
    "print(new_vec)"
   ]
  },
  {
   "cell_type": "markdown",
   "metadata": {},
   "source": [
    "Below is the occurence of the token id and the number of occurences of the tokens (id, # of ocurrence). Let's create a corpus that captures all of the tokens in our original list of abstracts."
   ]
  },
  {
   "cell_type": "code",
   "execution_count": 49,
   "metadata": {},
   "outputs": [
    {
     "name": "stdout",
     "output_type": "stream",
     "text": [
      "[[(2, 1), (4, 2), (10, 1), (35, 3), (47, 1), (81, 2), (82, 2), (83, 2), (84, 1), (85, 7), (86, 11), (87, 2), (88, 1), (89, 1), (90, 4), (91, 6), (92, 1), (93, 1), (94, 1), (95, 1), (96, 1), (97, 1), (98, 3), (99, 3), (100, 7), (101, 2), (102, 3), (103, 2), (104, 1), (105, 1), (106, 1), (107, 2), (108, 2), (109, 2), (110, 3), (111, 2), (112, 2), (113, 2), (114, 2), (115, 1), (116, 2), (117, 2), (118, 1), (119, 1), (120, 1), (121, 1), (122, 1), (123, 2), (124, 1), (125, 1), (126, 1), (127, 4), (128, 1), (129, 1), (130, 1), (131, 1), (132, 1), (133, 1), (134, 1), (135, 2), (136, 1), (137, 1), (138, 1), (139, 1), (140, 1), (141, 1), (142, 1), (143, 1), (144, 1), (145, 1), (146, 1), (147, 1), (148, 1), (149, 1), (150, 1), (151, 1), (152, 1), (153, 1), (154, 1), (155, 1), (156, 1), (157, 1), (158, 1), (159, 1), (160, 1), (161, 1), (162, 1), (163, 1), (164, 1), (165, 1), (166, 1), (167, 1), (168, 1), (169, 1), (170, 1), (171, 1), (172, 1), (173, 1), (174, 1), (175, 1)]]\n"
     ]
    }
   ],
   "source": [
    "corpus = [dictionary.doc2bow(doc) for doc in doc_clean]\n",
    "corpora.MmCorpus.serialize('../data/asthma_lit_abs.mm', corpus) # store to disk for later use\n",
    "print(corpus[1:2])"
   ]
  },
  {
   "cell_type": "markdown",
   "metadata": {},
   "source": [
    "Below we define the necessary inputs for the pyLDAvis package to creat a visual for us. Using it within the jupyter environment seems not to render anything. Let's try it in the shell environment."
   ]
  },
  {
   "cell_type": "code",
   "execution_count": 90,
   "metadata": {},
   "outputs": [],
   "source": [
    "def gensim_output(modelfile, corpusfile, dictionaryfile):\n",
    "    \"\"\"Displaying gensim topic models\"\"\"\n",
    "    ## load files from \"gensim_modeling\"\n",
    "    corpus = corpora.MmCorpus(corpusfile)\n",
    "    dictionary = corpora.Dictionary.load(dictionaryfile) # for pyLDAvis\n",
    "    myldamodel = gensim.models.ldamodel.LdaModel.load(modelfile)\n",
    "    \n",
    "    ## interactive visualization\n",
    "    import pyLDAvis.gensim\n",
    "    vis = pyLDAvis.gensim.prepare(myldamodel, corpus, dictionary)\n",
    "    pyLDAvis.enable_notebook()\n",
    "    pyLDAvis.save_html(vis, \"../figure/vis.html\")"
   ]
  },
  {
   "cell_type": "markdown",
   "metadata": {},
   "source": [
    "You can see that in the last line we just ave it to an html file... rather we would like to use it as a `pyLDAvis.display(vis)` statement so that we can have it rendered onto a server. Let's see if that wil work"
   ]
  },
  {
   "cell_type": "code",
   "execution_count": 91,
   "metadata": {},
   "outputs": [],
   "source": [
    "import pandas as pd\n",
    "%matplotlib inline\n",
    "\n",
    "pyLDAvis.enable_notebook()\n",
    "pd.options.display.max_colwidth = 5000\n",
    "pd.options.display.show_dimensions\n",
    "\n",
    "\n",
    "gensim_output('../data/asthma_lit_abs.mod', \n",
    "              '../data/asthma_lit_abs.mm', \n",
    "              '../data/asthma_lit_abs.dict')"
   ]
  },
  {
   "cell_type": "markdown",
   "metadata": {},
   "source": [
    "### 7. Visualize using word cloud"
   ]
  },
  {
   "cell_type": "code",
   "execution_count": 92,
   "metadata": {},
   "outputs": [],
   "source": [
    "import matplotlib.pyplot as plt"
   ]
  },
  {
   "cell_type": "code",
   "execution_count": 94,
   "metadata": {},
   "outputs": [],
   "source": [
    "import wordcloud"
   ]
  },
  {
   "cell_type": "markdown",
   "metadata": {},
   "source": [
    "Raw text"
   ]
  },
  {
   "cell_type": "code",
   "execution_count": 97,
   "metadata": {},
   "outputs": [],
   "source": [
    "wordcloud_raw = wordcloud.WordCloud().generate(''.join(doc_complete))"
   ]
  },
  {
   "cell_type": "code",
   "execution_count": 98,
   "metadata": {},
   "outputs": [
    {
     "data": {
      "text/plain": [
       "<matplotlib.image.AxesImage at 0x7f9f4e16cf28>"
      ]
     },
     "execution_count": 98,
     "metadata": {},
     "output_type": "execute_result"
    },
    {
     "data": {
      "image/png": "[encoded data removed]",
      "text/plain": [
       "<matplotlib.figure.Figure at 0x7f9f4e168f98>"
      ]
     },
     "metadata": {},
     "output_type": "display_data"
    }
   ],
   "source": [
    "plt.imshow(wordcloud_raw, interpolation='bilinear')"
   ]
  }
 ],
 "metadata": {
  "kernelspec": {
   "display_name": "Python 3",
   "language": "python",
   "name": "python3"
  },
  "language_info": {
   "codemirror_mode": {
    "name": "ipython",
    "version": 3
   },
   "file_extension": ".py",
   "mimetype": "text/x-python",
   "name": "python",
   "nbconvert_exporter": "python",
   "pygments_lexer": "ipython3",
   "version": "3.6.3"
  }
 },
 "nbformat": 4,
 "nbformat_minor": 2
}
